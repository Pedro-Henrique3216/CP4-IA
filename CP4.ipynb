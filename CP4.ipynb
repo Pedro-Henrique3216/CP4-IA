{
  "nbformat": 4,
  "nbformat_minor": 0,
  "metadata": {
    "colab": {
      "provenance": [],
      "authorship_tag": "ABX9TyMIYA2F3bLcP7GHjP+HFMZW",
      "include_colab_link": true
    },
    "kernelspec": {
      "name": "python3",
      "display_name": "Python 3"
    },
    "language_info": {
      "name": "python"
    }
  },
  "cells": [
    {
      "cell_type": "markdown",
      "metadata": {
        "id": "view-in-github",
        "colab_type": "text"
      },
      "source": [
        "<a href=\"https://colab.research.google.com/github/Pedro-Henrique3216/CP4-IA/blob/main/CP4.ipynb\" target=\"_parent\"><img src=\"https://colab.research.google.com/assets/colab-badge.svg\" alt=\"Open In Colab\"/></a>"
      ]
    },
    {
      "cell_type": "code",
      "execution_count": null,
      "metadata": {
        "id": "doMGZuEPjjfn"
      },
      "outputs": [],
      "source": [
        "import pandas as pd\n",
        "import numpy as np\n",
        "import matplotlib.pyplot as plt\n",
        "import seaborn as sns\n",
        "from sklearn.preprocessing import MinMaxScaler\n",
        "from sklearn.cluster import KMeans\n",
        "from sklearn.linear_model import LinearRegression\n",
        "from statsmodels.tsa.seasonal import seasonal_decompose"
      ]
    },
    {
      "cell_type": "markdown",
      "source": [
        "1. Carregue o dataset e exiba as 10 primeiras linhas"
      ],
      "metadata": {
        "id": "JAGEh8ndlTpG"
      }
    },
    {
      "cell_type": "code",
      "source": [
        "dados = pd.read_csv('/content/household_power_consumption.txt', sep=\";\", low_memory=False, na_values=\"?\")\n",
        "dados.head(10)"
      ],
      "metadata": {
        "id": "HYWuap5tkJod",
        "colab": {
          "base_uri": "https://localhost:8080/",
          "height": 339
        },
        "outputId": "a60155ee-14c0-49a6-de30-b72e3ab8789f"
      },
      "execution_count": null,
      "outputs": [
        {
          "output_type": "error",
          "ename": "FileNotFoundError",
          "evalue": "[Errno 2] No such file or directory: '/content/household_power_consumption.txt'",
          "traceback": [
            "\u001b[0;31m---------------------------------------------------------------------------\u001b[0m",
            "\u001b[0;31mFileNotFoundError\u001b[0m                         Traceback (most recent call last)",
            "\u001b[0;32m/tmp/ipython-input-3840380603.py\u001b[0m in \u001b[0;36m<cell line: 0>\u001b[0;34m()\u001b[0m\n\u001b[0;32m----> 1\u001b[0;31m \u001b[0mdados\u001b[0m \u001b[0;34m=\u001b[0m \u001b[0mpd\u001b[0m\u001b[0;34m.\u001b[0m\u001b[0mread_csv\u001b[0m\u001b[0;34m(\u001b[0m\u001b[0;34m'/content/household_power_consumption.txt'\u001b[0m\u001b[0;34m,\u001b[0m \u001b[0msep\u001b[0m\u001b[0;34m=\u001b[0m\u001b[0;34m\";\"\u001b[0m\u001b[0;34m,\u001b[0m \u001b[0mlow_memory\u001b[0m\u001b[0;34m=\u001b[0m\u001b[0;32mFalse\u001b[0m\u001b[0;34m,\u001b[0m \u001b[0mna_values\u001b[0m\u001b[0;34m=\u001b[0m\u001b[0;34m\"?\"\u001b[0m\u001b[0;34m)\u001b[0m\u001b[0;34m\u001b[0m\u001b[0;34m\u001b[0m\u001b[0m\n\u001b[0m\u001b[1;32m      2\u001b[0m \u001b[0mdados\u001b[0m\u001b[0;34m.\u001b[0m\u001b[0mhead\u001b[0m\u001b[0;34m(\u001b[0m\u001b[0;36m10\u001b[0m\u001b[0;34m)\u001b[0m\u001b[0;34m\u001b[0m\u001b[0;34m\u001b[0m\u001b[0m\n",
            "\u001b[0;32m/usr/local/lib/python3.12/dist-packages/pandas/io/parsers/readers.py\u001b[0m in \u001b[0;36mread_csv\u001b[0;34m(filepath_or_buffer, sep, delimiter, header, names, index_col, usecols, dtype, engine, converters, true_values, false_values, skipinitialspace, skiprows, skipfooter, nrows, na_values, keep_default_na, na_filter, verbose, skip_blank_lines, parse_dates, infer_datetime_format, keep_date_col, date_parser, date_format, dayfirst, cache_dates, iterator, chunksize, compression, thousands, decimal, lineterminator, quotechar, quoting, doublequote, escapechar, comment, encoding, encoding_errors, dialect, on_bad_lines, delim_whitespace, low_memory, memory_map, float_precision, storage_options, dtype_backend)\u001b[0m\n\u001b[1;32m   1024\u001b[0m     \u001b[0mkwds\u001b[0m\u001b[0;34m.\u001b[0m\u001b[0mupdate\u001b[0m\u001b[0;34m(\u001b[0m\u001b[0mkwds_defaults\u001b[0m\u001b[0;34m)\u001b[0m\u001b[0;34m\u001b[0m\u001b[0;34m\u001b[0m\u001b[0m\n\u001b[1;32m   1025\u001b[0m \u001b[0;34m\u001b[0m\u001b[0m\n\u001b[0;32m-> 1026\u001b[0;31m     \u001b[0;32mreturn\u001b[0m \u001b[0m_read\u001b[0m\u001b[0;34m(\u001b[0m\u001b[0mfilepath_or_buffer\u001b[0m\u001b[0;34m,\u001b[0m \u001b[0mkwds\u001b[0m\u001b[0;34m)\u001b[0m\u001b[0;34m\u001b[0m\u001b[0;34m\u001b[0m\u001b[0m\n\u001b[0m\u001b[1;32m   1027\u001b[0m \u001b[0;34m\u001b[0m\u001b[0m\n\u001b[1;32m   1028\u001b[0m \u001b[0;34m\u001b[0m\u001b[0m\n",
            "\u001b[0;32m/usr/local/lib/python3.12/dist-packages/pandas/io/parsers/readers.py\u001b[0m in \u001b[0;36m_read\u001b[0;34m(filepath_or_buffer, kwds)\u001b[0m\n\u001b[1;32m    618\u001b[0m \u001b[0;34m\u001b[0m\u001b[0m\n\u001b[1;32m    619\u001b[0m     \u001b[0;31m# Create the parser.\u001b[0m\u001b[0;34m\u001b[0m\u001b[0;34m\u001b[0m\u001b[0m\n\u001b[0;32m--> 620\u001b[0;31m     \u001b[0mparser\u001b[0m \u001b[0;34m=\u001b[0m \u001b[0mTextFileReader\u001b[0m\u001b[0;34m(\u001b[0m\u001b[0mfilepath_or_buffer\u001b[0m\u001b[0;34m,\u001b[0m \u001b[0;34m**\u001b[0m\u001b[0mkwds\u001b[0m\u001b[0;34m)\u001b[0m\u001b[0;34m\u001b[0m\u001b[0;34m\u001b[0m\u001b[0m\n\u001b[0m\u001b[1;32m    621\u001b[0m \u001b[0;34m\u001b[0m\u001b[0m\n\u001b[1;32m    622\u001b[0m     \u001b[0;32mif\u001b[0m \u001b[0mchunksize\u001b[0m \u001b[0;32mor\u001b[0m \u001b[0miterator\u001b[0m\u001b[0;34m:\u001b[0m\u001b[0;34m\u001b[0m\u001b[0;34m\u001b[0m\u001b[0m\n",
            "\u001b[0;32m/usr/local/lib/python3.12/dist-packages/pandas/io/parsers/readers.py\u001b[0m in \u001b[0;36m__init__\u001b[0;34m(self, f, engine, **kwds)\u001b[0m\n\u001b[1;32m   1618\u001b[0m \u001b[0;34m\u001b[0m\u001b[0m\n\u001b[1;32m   1619\u001b[0m         \u001b[0mself\u001b[0m\u001b[0;34m.\u001b[0m\u001b[0mhandles\u001b[0m\u001b[0;34m:\u001b[0m \u001b[0mIOHandles\u001b[0m \u001b[0;34m|\u001b[0m \u001b[0;32mNone\u001b[0m \u001b[0;34m=\u001b[0m \u001b[0;32mNone\u001b[0m\u001b[0;34m\u001b[0m\u001b[0;34m\u001b[0m\u001b[0m\n\u001b[0;32m-> 1620\u001b[0;31m         \u001b[0mself\u001b[0m\u001b[0;34m.\u001b[0m\u001b[0m_engine\u001b[0m \u001b[0;34m=\u001b[0m \u001b[0mself\u001b[0m\u001b[0;34m.\u001b[0m\u001b[0m_make_engine\u001b[0m\u001b[0;34m(\u001b[0m\u001b[0mf\u001b[0m\u001b[0;34m,\u001b[0m \u001b[0mself\u001b[0m\u001b[0;34m.\u001b[0m\u001b[0mengine\u001b[0m\u001b[0;34m)\u001b[0m\u001b[0;34m\u001b[0m\u001b[0;34m\u001b[0m\u001b[0m\n\u001b[0m\u001b[1;32m   1621\u001b[0m \u001b[0;34m\u001b[0m\u001b[0m\n\u001b[1;32m   1622\u001b[0m     \u001b[0;32mdef\u001b[0m \u001b[0mclose\u001b[0m\u001b[0;34m(\u001b[0m\u001b[0mself\u001b[0m\u001b[0;34m)\u001b[0m \u001b[0;34m->\u001b[0m \u001b[0;32mNone\u001b[0m\u001b[0;34m:\u001b[0m\u001b[0;34m\u001b[0m\u001b[0;34m\u001b[0m\u001b[0m\n",
            "\u001b[0;32m/usr/local/lib/python3.12/dist-packages/pandas/io/parsers/readers.py\u001b[0m in \u001b[0;36m_make_engine\u001b[0;34m(self, f, engine)\u001b[0m\n\u001b[1;32m   1878\u001b[0m                 \u001b[0;32mif\u001b[0m \u001b[0;34m\"b\"\u001b[0m \u001b[0;32mnot\u001b[0m \u001b[0;32min\u001b[0m \u001b[0mmode\u001b[0m\u001b[0;34m:\u001b[0m\u001b[0;34m\u001b[0m\u001b[0;34m\u001b[0m\u001b[0m\n\u001b[1;32m   1879\u001b[0m                     \u001b[0mmode\u001b[0m \u001b[0;34m+=\u001b[0m \u001b[0;34m\"b\"\u001b[0m\u001b[0;34m\u001b[0m\u001b[0;34m\u001b[0m\u001b[0m\n\u001b[0;32m-> 1880\u001b[0;31m             self.handles = get_handle(\n\u001b[0m\u001b[1;32m   1881\u001b[0m                 \u001b[0mf\u001b[0m\u001b[0;34m,\u001b[0m\u001b[0;34m\u001b[0m\u001b[0;34m\u001b[0m\u001b[0m\n\u001b[1;32m   1882\u001b[0m                 \u001b[0mmode\u001b[0m\u001b[0;34m,\u001b[0m\u001b[0;34m\u001b[0m\u001b[0;34m\u001b[0m\u001b[0m\n",
            "\u001b[0;32m/usr/local/lib/python3.12/dist-packages/pandas/io/common.py\u001b[0m in \u001b[0;36mget_handle\u001b[0;34m(path_or_buf, mode, encoding, compression, memory_map, is_text, errors, storage_options)\u001b[0m\n\u001b[1;32m    871\u001b[0m         \u001b[0;32mif\u001b[0m \u001b[0mioargs\u001b[0m\u001b[0;34m.\u001b[0m\u001b[0mencoding\u001b[0m \u001b[0;32mand\u001b[0m \u001b[0;34m\"b\"\u001b[0m \u001b[0;32mnot\u001b[0m \u001b[0;32min\u001b[0m \u001b[0mioargs\u001b[0m\u001b[0;34m.\u001b[0m\u001b[0mmode\u001b[0m\u001b[0;34m:\u001b[0m\u001b[0;34m\u001b[0m\u001b[0;34m\u001b[0m\u001b[0m\n\u001b[1;32m    872\u001b[0m             \u001b[0;31m# Encoding\u001b[0m\u001b[0;34m\u001b[0m\u001b[0;34m\u001b[0m\u001b[0m\n\u001b[0;32m--> 873\u001b[0;31m             handle = open(\n\u001b[0m\u001b[1;32m    874\u001b[0m                 \u001b[0mhandle\u001b[0m\u001b[0;34m,\u001b[0m\u001b[0;34m\u001b[0m\u001b[0;34m\u001b[0m\u001b[0m\n\u001b[1;32m    875\u001b[0m                 \u001b[0mioargs\u001b[0m\u001b[0;34m.\u001b[0m\u001b[0mmode\u001b[0m\u001b[0;34m,\u001b[0m\u001b[0;34m\u001b[0m\u001b[0;34m\u001b[0m\u001b[0m\n",
            "\u001b[0;31mFileNotFoundError\u001b[0m: [Errno 2] No such file or directory: '/content/household_power_consumption.txt'"
          ]
        }
      ]
    },
    {
      "cell_type": "markdown",
      "source": [
        "2. Explique a diferença entre as variáveis Global_active_power e Global_reactive_power"
      ],
      "metadata": {
        "id": "LxWdpGvIll43"
      }
    },
    {
      "cell_type": "code",
      "source": [
        "#Global_active_power: potência ativa (kW) realmente consumida.\n",
        "#Global_reactive_power: potência reativa (kW), circula entre fonte e carga, não realiza trabalho útil."
      ],
      "metadata": {
        "id": "BudQ1eHWkvMF"
      },
      "execution_count": null,
      "outputs": []
    },
    {
      "cell_type": "markdown",
      "source": [
        "3.  Verifique se existem valores ausentes no dataset. Quantifique-os"
      ],
      "metadata": {
        "id": "yRpDgQf3mBng"
      }
    },
    {
      "cell_type": "code",
      "source": [
        "dados.info()"
      ],
      "metadata": {
        "id": "2qkhn5lPmf-6"
      },
      "execution_count": null,
      "outputs": []
    },
    {
      "cell_type": "code",
      "source": [
        "dados.isnull().sum()"
      ],
      "metadata": {
        "id": "ZlzKjkBmmFyZ"
      },
      "execution_count": null,
      "outputs": []
    },
    {
      "cell_type": "markdown",
      "source": [
        "4. Converta a coluna Date para o tipo datetime e crie uma nova coluna com o dia da semana\n",
        "correspondente."
      ],
      "metadata": {
        "id": "msc8G3oWmyV6"
      }
    },
    {
      "cell_type": "code",
      "source": [
        "dados[\"Date\"] = pd.to_datetime(dados[\"Date\"], format=\"%d/%m/%Y\")\n",
        "dados[\"Dia_Semana\"] = dados[\"Date\"].dt.dayofweek"
      ],
      "metadata": {
        "id": "aWFIgsX4mwWS"
      },
      "execution_count": null,
      "outputs": []
    },
    {
      "cell_type": "code",
      "source": [
        "dados.info()"
      ],
      "metadata": {
        "id": "ARPwx7lznV6y"
      },
      "execution_count": null,
      "outputs": []
    },
    {
      "cell_type": "code",
      "source": [
        "dados.head(10)"
      ],
      "metadata": {
        "id": "9ChkT7cOnP1i"
      },
      "execution_count": null,
      "outputs": []
    },
    {
      "cell_type": "markdown",
      "source": [
        "5. Filtre os registros apenas do ano de 2007 e calcule a média de consumo diário de\n",
        "Global_active_power."
      ],
      "metadata": {
        "id": "trq2lJJanneq"
      }
    },
    {
      "cell_type": "code",
      "source": [
        "dados[\"Global_active_power\"] = pd.to_numeric(dados[\"Global_active_power\"], errors=\"coerce\")\n",
        "df_2007 = dados[dados[\"Date\"].dt.year == 2007]"
      ],
      "metadata": {
        "id": "nyvi0ivWnu5y"
      },
      "execution_count": null,
      "outputs": []
    },
    {
      "cell_type": "code",
      "source": [
        "media_diaria_2007 = df_2007.groupby(\"Date\")[\"Global_active_power\"].mean()\n",
        "print(\"\\nMédia diária de Global_active_power em 2007:\")\n",
        "print(media_diaria_2007)"
      ],
      "metadata": {
        "id": "K4rm8xaEpzJu"
      },
      "execution_count": null,
      "outputs": []
    },
    {
      "cell_type": "code",
      "source": [
        "\n",
        "media_global_active_power = df_2007['Global_active_power'].mean()\n",
        "print(f\"A média de consumo de Global_active_power no ano de 2007 é: {media_global_active_power}\")"
      ],
      "metadata": {
        "id": "mxxIoDYusM-K"
      },
      "execution_count": null,
      "outputs": []
    },
    {
      "cell_type": "code",
      "source": [
        "df_2007.info()"
      ],
      "metadata": {
        "id": "44KNAcBXwI2A"
      },
      "execution_count": null,
      "outputs": []
    },
    {
      "cell_type": "markdown",
      "source": [
        "6. Gere um gráfico de linha mostrando a variação de Global_active_power em um único dia à sua\n",
        "escolha."
      ],
      "metadata": {
        "id": "6UCTykI-sWYp"
      }
    },
    {
      "cell_type": "code",
      "source": [
        "um_dia = dados[dados[\"Date\"] == \"2007-01-01\"]\n",
        "um_dia[\"Datetime\"] = pd.to_datetime(um_dia[\"Date\"].astype(str) + \" \" + um_dia[\"Time\"])\n",
        "plt.figure(figsize=(12,4))\n",
        "plt.plot(um_dia[\"Datetime\"], um_dia[\"Global_active_power\"])\n",
        "plt.title(\"Consumo em 01/01/2007\")\n",
        "plt.xticks(rotation=45)\n",
        "plt.show()"
      ],
      "metadata": {
        "id": "qk8cPkYSseNR"
      },
      "execution_count": null,
      "outputs": []
    },
    {
      "cell_type": "code",
      "source": [
        "um_dia.head()"
      ],
      "metadata": {
        "id": "UvsSzONrqbVN"
      },
      "execution_count": null,
      "outputs": []
    },
    {
      "cell_type": "markdown",
      "source": [
        "7. Crie um histograma da variável Voltage. O que pode ser observado sobre sua distribuição?"
      ],
      "metadata": {
        "id": "niljwZUKuGw3"
      }
    },
    {
      "cell_type": "code",
      "source": [
        "dados[\"Voltage\"] = pd.to_numeric(dados[\"Voltage\"], errors=\"coerce\")\n",
        "plt.hist(dados[\"Voltage\"].dropna(), bins=50, color=\"skyblue\", edgecolor=\"black\")\n",
        "plt.title(\"Distribuição de Voltage\")\n",
        "plt.xlabel(\"Voltage\")\n",
        "plt.ylabel(\"Frequência\")\n",
        "plt.show()\n",
        "\n",
        "#A distribuição de voltage monitorada se mantém bem estável, com tensões girando em torno de 240V e poucas variações extremas."
      ],
      "metadata": {
        "id": "wOpSQMhtuh33"
      },
      "execution_count": null,
      "outputs": []
    },
    {
      "cell_type": "markdown",
      "source": [
        "8. Calcule o consumo médio por mês em todo o período disponível no dataset."
      ],
      "metadata": {
        "id": "aPNzldFWuIrW"
      }
    },
    {
      "cell_type": "code",
      "source": [
        "dados[\"AnoMes\"] = dados[\"Date\"].dt.to_period(\"M\")\n",
        "media_mensal = dados.groupby(\"AnoMes\")[\"Global_active_power\"].mean()\n",
        "print(\"\\nConsumo médio mensal:\")\n",
        "media_mensal"
      ],
      "metadata": {
        "id": "zAsTAO-CrcCV"
      },
      "execution_count": null,
      "outputs": []
    },
    {
      "cell_type": "markdown",
      "source": [
        "9. Identifique o dia com maior consumo de energia ativa global (Global_active_power)."
      ],
      "metadata": {
        "id": "PWlyzX7BuK7e"
      }
    },
    {
      "cell_type": "code",
      "source": [
        "consumo_por_dia = dados.groupby(\"Date\")[\"Global_active_power\"].sum()\n",
        "dia_max = consumo_por_dia.idxmax()\n",
        "print(f\"\\nDia com maior consumo: {dia_max} ({consumo_por_dia.max()} kW)\")"
      ],
      "metadata": {
        "id": "s5CN0it4tg0d"
      },
      "execution_count": null,
      "outputs": []
    },
    {
      "cell_type": "markdown",
      "source": [
        "10. Compare o consumo médio de energia ativa global em dias de semana versus finais de\n",
        "semana."
      ],
      "metadata": {
        "id": "jt8cAHbEuNCf"
      }
    },
    {
      "cell_type": "code",
      "source": [
        "dados[\"is_weekend\"] = dados[\"Date\"].dt.weekday > 5\n",
        "print(\"\\nConsumo médio semana vs fim de semana:\")\n",
        "print(dados.groupby(\"is_weekend\")[\"Global_active_power\"].mean())"
      ],
      "metadata": {
        "id": "Urt7_YLjtuCm"
      },
      "execution_count": null,
      "outputs": []
    },
    {
      "cell_type": "markdown",
      "source": [
        "11. Calcule a correlação entre as variáveis Global_active_power, Global_reactive_power, Voltage\n",
        "e Global_intensity."
      ],
      "metadata": {
        "id": "Fqd2ZcHzuPX2"
      }
    },
    {
      "cell_type": "code",
      "source": [
        "dados[\"Global_active_power\"] = pd.to_numeric(dados[\"Global_active_power\"], errors=\"coerce\")\n",
        "dados[\"Global_reactive_power\"] = pd.to_numeric(dados[\"Global_reactive_power\"], errors=\"coerce\")\n",
        "cols_corr = [\"Global_active_power\",\"Global_reactive_power\",\"Voltage\",\"Global_intensity\"]\n",
        "print(\"\\nCorrelação entre variáveis:\")\n",
        "print(dados[cols_corr].corr())"
      ],
      "metadata": {
        "id": "mV3pbwi-t-nt"
      },
      "execution_count": null,
      "outputs": []
    },
    {
      "cell_type": "markdown",
      "source": [
        "12. Crie uma nova variável chamada Total_Sub_metering que some Sub_metering_1,\n",
        "Sub_metering_2 e Sub_metering_3."
      ],
      "metadata": {
        "id": "HtIdYTfRuQuO"
      }
    },
    {
      "cell_type": "code",
      "source": [
        "dados[\"Total_Sub_metering\"] = dados[\"Sub_metering_1\"] + dados[\"Sub_metering_2\"] + dados[\"Sub_metering_3\"]\n",
        "dados.head()"
      ],
      "metadata": {
        "id": "J-m5vHlGuX00"
      },
      "execution_count": null,
      "outputs": []
    },
    {
      "cell_type": "markdown",
      "source": [
        "13. Verifique se há algum mês em que Total_Sub_metering ultrapassa a média de\n",
        "Global_active_power."
      ],
      "metadata": {
        "id": "75jVrYiWuSF2"
      }
    },
    {
      "cell_type": "code",
      "source": [
        "media_global_active_power = dados[\"Global_active_power\"].mean()\n",
        "mensal_sub = dados.groupby(\"AnoMes\")[\"Total_Sub_metering\"].mean()\n",
        "comparacao = mensal_sub > media_global_active_power\n",
        "print(f\"\\nMédia de Global_active_power: {media_global_active_power}\")\n",
        "print(\"\\nMeses em que Total_Sub_metering > Global_active_power médio:\")\n",
        "comparacao[comparacao].index"
      ],
      "metadata": {
        "id": "ZdjrtpYEuupG"
      },
      "execution_count": null,
      "outputs": []
    },
    {
      "cell_type": "markdown",
      "source": [
        "14. Faça um gráfico de série temporal do Voltage para o ano de 2008"
      ],
      "metadata": {
        "id": "ksnGbIzquT5H"
      }
    },
    {
      "cell_type": "code",
      "source": [
        "df_2008 = dados[dados[\"Date\"].dt.year == 2008]\n",
        "df_2008[\"Datetime\"] = pd.to_datetime(df_2008[\"Date\"].astype(str) + \" \" + df_2008[\"Time\"])\n",
        "plt.figure(figsize=(12,4))\n",
        "plt.plot(df_2008[\"Datetime\"], df_2008[\"Voltage\"], alpha=0.5)\n",
        "plt.title(\"Voltage em 2008\")\n",
        "plt.show()"
      ],
      "metadata": {
        "id": "4Itk-F9owXHE"
      },
      "execution_count": null,
      "outputs": []
    },
    {
      "cell_type": "markdown",
      "source": [
        "15. Compare o consumo entre os meses de verão e inverno (no hemisfério norte)"
      ],
      "metadata": {
        "id": "ea51I3YZuVgm"
      }
    },
    {
      "cell_type": "code",
      "source": [
        "dados[\"Mes\"] = dados[\"Date\"].dt.month\n",
        "verao = dados[dados[\"Mes\"].isin([6,7,8])][\"Global_active_power\"].mean()\n",
        "inverno = dados[dados[\"Mes\"].isin([12,1,2])][\"Global_active_power\"].mean()\n",
        "print(f\"\\nConsumo médio Verão: {verao:.2f}, Inverno: {inverno:.2f}\")"
      ],
      "metadata": {
        "id": "Vd2X-qd-w2DM"
      },
      "execution_count": null,
      "outputs": []
    },
    {
      "cell_type": "markdown",
      "source": [
        "16. Aplique uma amostragem aleatória de 1% dos dados e verifique se a distribuição de\n",
        "Global_active_power é semelhante à da base completa."
      ],
      "metadata": {
        "id": "1e17-NN4uYkm"
      }
    },
    {
      "cell_type": "code",
      "source": [
        "sample = dados.sample(frac=0.01, random_state=42)\n",
        "plt.hist(dados[\"Global_active_power\"].dropna(), bins=50, alpha=0.5, label=\"Completo\")\n",
        "plt.hist(sample[\"Global_active_power\"].dropna(), bins=50, alpha=0.5, label=\"1% Amostra\")\n",
        "plt.legend()\n",
        "plt.title(\"Distribuição Global_active_power\")\n",
        "plt.show()"
      ],
      "metadata": {
        "id": "P1X1OO9exJD9"
      },
      "execution_count": null,
      "outputs": []
    },
    {
      "cell_type": "markdown",
      "source": [
        "17. Utilize uma técnica de normalização (Min-Max Scaling) para padronizar as variáveis numéricas\n",
        "principais"
      ],
      "metadata": {
        "id": "RHI1XWGtuakX"
      }
    },
    {
      "cell_type": "code",
      "source": [
        "scaler = MinMaxScaler()\n",
        "df_scaled = pd.DataFrame(scaler.fit_transform(dados[cols_corr].dropna()), columns=cols_corr)\n",
        "print(\"\\nDados normalizados (primeiras linhas):\")\n",
        "df_scaled.head()"
      ],
      "metadata": {
        "id": "w4JRXnkNxc5N"
      },
      "execution_count": null,
      "outputs": []
    },
    {
      "cell_type": "markdown",
      "source": [
        "18. Aplique K-means para segmentar os dias em 3 grupos distintos de consumo elétrico. Interprete\n",
        "os resultados"
      ],
      "metadata": {
        "id": "5_PN4ZcTucbf"
      }
    },
    {
      "cell_type": "code",
      "source": [
        "df_day = dados.groupby(\"Date\")[[\"Global_active_power\"]].mean().dropna()\n",
        "kmeans = KMeans(n_clusters=3, random_state=42).fit(df_day)\n",
        "df_day[\"Cluster\"] = kmeans.labels_\n",
        "print(\"\\nAgrupamento de dias em 3 clusters:\")\n",
        "df_day.head(10)"
      ],
      "metadata": {
        "id": "1upAryeBxkdM"
      },
      "execution_count": null,
      "outputs": []
    },
    {
      "cell_type": "markdown",
      "source": [
        "19. Realize uma decomposição de série temporal (tendência, sazonalidade e resíduo) para\n",
        "Global_active_power em um período de 6 meses"
      ],
      "metadata": {
        "id": "3x-DQ_xpud6u"
      }
    },
    {
      "cell_type": "code",
      "source": [
        "df_ts = dados.set_index(pd.to_datetime(dados[\"Date\"].astype(str) + \" \" + dados[\"Time\"]))\n",
        "df_ts = df_ts[\"Global_active_power\"].dropna()\n",
        "df_6m = df_ts[\"2007-01\":\"2007-06\"]\n",
        "\n",
        "decomp = seasonal_decompose(df_6m, model=\"additive\", period=1440) # 1440 minutos em 1 dia\n",
        "decomp.plot()\n",
        "plt.show()"
      ],
      "metadata": {
        "id": "db-WeXaQx2xV"
      },
      "execution_count": null,
      "outputs": []
    },
    {
      "cell_type": "markdown",
      "source": [
        "20. Treine um modelo de regressão linear simples para prever Global_active_power a partir de\n",
        "Global_intensity. Avalie o erro do modelo."
      ],
      "metadata": {
        "id": "8-m_pcOKuflu"
      }
    },
    {
      "cell_type": "code",
      "source": [
        "df_reg = dados.dropna(subset=[\"Global_active_power\",\"Global_intensity\"])\n",
        "X = df_reg[[\"Global_intensity\"]]\n",
        "y = df_reg[\"Global_active_power\"]\n",
        "\n",
        "model = LinearRegression()\n",
        "model.fit(X, y)\n",
        "y_pred = model.predict(X)\n",
        "\n",
        "from sklearn.metrics import mean_squared_error\n",
        "rmse = np.sqrt(mean_squared_error(y, y_pred))\n",
        "print(f\"\\nRMSE da regressão linear simples: {rmse:.4f}\")"
      ],
      "metadata": {
        "id": "WFLPM-X4yHS1"
      },
      "execution_count": null,
      "outputs": []
    },
    {
      "cell_type": "code",
      "source": [
        "from pandas.plotting import autocorrelation_plot\n",
        "from sklearn.decomposition import PCA\n",
        "from sklearn.preprocessing import PolynomialFeatures\n",
        "from sklearn.metrics import mean_squared_error"
      ],
      "metadata": {
        "id": "01Kvj73Hzmfl"
      },
      "execution_count": null,
      "outputs": []
    },
    {
      "cell_type": "markdown",
      "source": [
        "21. Séries temporais por hora\n",
        "- Converta Date e Time em índice datetime.\n",
        "- Reamostre os dados em intervalos de 1 hora, calculando a média de Global_active_power.\n",
        "- Identifique os horários de maior consumo médio ao longo do dia.\n",
        "Observação: uma série temporal é um conjunto de dados registrados em ordem cronológica, útil\n",
        "para identificar padrões de comportamento ao longo do tempo.\n"
      ],
      "metadata": {
        "id": "1d-AU8ABzT9c"
      }
    },
    {
      "cell_type": "code",
      "source": [
        "dados[\"Datetime\"] = pd.to_datetime(dados[\"Date\"].astype(str) + \" \" + dados[\"Time\"])\n",
        "dados.set_index(\"Datetime\", inplace=True)\n",
        "\n",
        "# Reamostrar em 1h\n",
        "hora = dados[\"Global_active_power\"].resample(\"1h\").mean()\n",
        "\n",
        "plt.figure(figsize=(12,4))\n",
        "hora.plot()\n",
        "plt.title(\"Consumo médio por hora\")\n",
        "plt.ylabel(\"Global_active_power (kW)\")\n",
        "plt.show()\n",
        "\n",
        "# Identificar horários de maior consumo médio (ao longo do dia)\n",
        "hora_por_horario = dados.groupby(dados.index.hour)[\"Global_active_power\"].mean()\n",
        "print(\"\\nConsumo médio por horário do dia:\")\n",
        "print(hora_por_horario.sort_values(ascending=False).head())"
      ],
      "metadata": {
        "id": "_PIaGTcGzg81"
      },
      "execution_count": null,
      "outputs": []
    },
    {
      "cell_type": "markdown",
      "source": [
        "22. Autocorrelação do consumo\n",
        "- Use a série temporal de Global_active_power.\n",
        "- Calcule a autocorrelação em lags de 1h, 24h e 48h.\n",
        "- Pergunta: existem padrões repetidos diariamente?"
      ],
      "metadata": {
        "id": "WVm72smNzVFE"
      }
    },
    {
      "cell_type": "code",
      "source": [
        "lags = [1, 24, 48] # em horas\n",
        "for lag in lags:\n",
        "    corr = hora.autocorr(lag=lag)\n",
        "    print(f\"Autocorrelação com lag {lag}h: {corr:.4f}\")\n",
        "\n",
        "plt.figure(figsize=(10,4))\n",
        "autocorrelation_plot(hora.dropna())\n",
        "plt.title(\"Autocorrelação Global_active_power\")\n",
        "plt.show()"
      ],
      "metadata": {
        "id": "5ddKUCQa0O0v"
      },
      "execution_count": null,
      "outputs": []
    },
    {
      "cell_type": "markdown",
      "source": [
        "23. Redução de dimensionalidade com PCA\n",
        "- Selecione Global_active_power, Global_reactive_power, Voltage e Global_intensity.\n",
        "- Aplique PCA para reduzir para 2 componentes principais.\n",
        "- Analise a variância explicada por cada componente"
      ],
      "metadata": {
        "id": "AxY3RBwgzXo1"
      }
    },
    {
      "cell_type": "code",
      "source": [
        "features = [\"Global_active_power\",\"Global_reactive_power\",\"Voltage\",\"Global_intensity\"]\n",
        "df_pca = dados[features].dropna()\n",
        "\n",
        "pca = PCA(n_components=2)\n",
        "components = pca.fit_transform(df_pca)\n",
        "\n",
        "print(\"\\nVariância explicada pelos 2 componentes principais:\")\n",
        "print(pca.explained_variance_ratio_)"
      ],
      "metadata": {
        "id": "VkOZ1i960jiU"
      },
      "execution_count": null,
      "outputs": []
    },
    {
      "cell_type": "markdown",
      "source": [
        "24. Visualização de clusters no espaço PCA\n",
        "- Combine os resultados do PCA com K-Means (3 clusters).\n",
        "- Plote os pontos resultantes e pinte cada grupo por cluster.\n",
        "- Pergunta: os grupos se separam de forma clara?"
      ],
      "metadata": {
        "id": "S8y7dSlqzZzL"
      }
    },
    {
      "cell_type": "code",
      "source": [
        "kmeans_pca = KMeans(n_clusters=3, random_state=42).fit(components)\n",
        "clusters = kmeans_pca.labels_\n",
        "\n",
        "plt.figure(figsize=(8,6))\n",
        "plt.scatter(components[:,0], components[:,1], c=clusters, cmap=\"viridis\", s=5)\n",
        "plt.xlabel(\"Componente 1\")\n",
        "plt.ylabel(\"Componente 2\")\n",
        "plt.title(\"Clusters no espaço PCA\")\n",
        "plt.show()"
      ],
      "metadata": {
        "id": "d7nfGxbx0_l0"
      },
      "execution_count": null,
      "outputs": []
    },
    {
      "cell_type": "markdown",
      "source": [
        "25. Regressão polinomial vs linear\n",
        "- Modele Global_active_power em função de Voltage.\n",
        "- Compare Regressão Linear Simples com Regressão Polinomial (grau 2).\n",
        "- Analise RMSE e a curva ajustada."
      ],
      "metadata": {
        "id": "HbZjxmQrzcG2"
      }
    },
    {
      "cell_type": "code",
      "source": [
        "df_reg2 = dados.dropna(subset=[\"Global_active_power\",\"Voltage\"])\n",
        "X = df_reg2[[\"Voltage\"]]\n",
        "y = df_reg2[\"Global_active_power\"]\n",
        "\n",
        "# Linear\n",
        "lin_model = LinearRegression()\n",
        "lin_model.fit(X, y)\n",
        "y_lin = lin_model.predict(X)\n",
        "rmse_lin = np.sqrt(mean_squared_error(y, y_lin))\n",
        "\n",
        "# Polinomial grau 2\n",
        "poly = PolynomialFeatures(degree=2)\n",
        "X_poly = poly.fit_transform(X)\n",
        "poly_model = LinearRegression()\n",
        "poly_model.fit(X_poly, y)\n",
        "y_poly = poly_model.predict(X_poly)\n",
        "rmse_poly = np.sqrt(mean_squared_error(y, y_poly))\n",
        "\n",
        "print(f\"\\nRMSE Linear: {rmse_lin:.4f}\")\n",
        "print(f\"RMSE Polinomial grau 2: {rmse_poly:.4f}\")\n",
        "\n",
        "# Plot comparando\n",
        "plt.figure(figsize=(8,5))\n",
        "plt.scatter(X, y, alpha=0.3, s=5, label=\"Dados reais\")\n",
        "plt.scatter(X, y_lin, alpha=0.3, s=5, label=\"Linear\")\n",
        "plt.scatter(X, y_poly, alpha=0.3, s=5, label=\"Polinomial Grau 2\")\n",
        "plt.legend()\n",
        "plt.xlabel(\"Voltage\")\n",
        "plt.ylabel(\"Global_active_power\")\n",
        "plt.title(\"Comparação Linear vs Polinomial\")\n",
        "plt.show()"
      ],
      "metadata": {
        "id": "_lOOJbD01Jlk"
      },
      "execution_count": null,
      "outputs": []
    },
    {
      "cell_type": "markdown",
      "source": [
        "26. Carregamento e inspeção inicial\n",
        "- Carregue o dataset no Pandas.\n",
        "- Liste tipos de dados e estatísticas descritivas (.info() e .describe())"
      ],
      "metadata": {
        "id": "pwwKOProHWL-"
      }
    },
    {
      "cell_type": "code",
      "source": [
        "df_app = pd.read_csv(\"energydata_complete.csv\")\n",
        "\n",
        "print(\"\\nInfo dataset Appliances:\")\n",
        "print(df_app.info())\n",
        "print(\"\\nEstatísticas descritivas:\")\n",
        "print(df_app.describe())\n"
      ],
      "metadata": {
        "id": "kQRB389jHt_k"
      },
      "execution_count": null,
      "outputs": []
    },
    {
      "cell_type": "markdown",
      "source": [
        "27. Distribuição do consumo\n",
        "- Crie histogramas e séries temporais para a variável Appliances.\n",
        "- Pergunta: o consumo tende a se concentrar em valores baixos ou altos?"
      ],
      "metadata": {
        "id": "TtTUNRdMHWsk"
      }
    },
    {
      "cell_type": "code",
      "source": [
        "plt.figure(figsize=(8,4))\n",
        "plt.hist(df_app[\"Appliances\"], bins=50, color=\"skyblue\", edgecolor=\"black\")\n",
        "plt.title(\"Distribuição do consumo de Appliances\")\n",
        "plt.xlabel(\"Consumo (Wh)\")\n",
        "plt.ylabel(\"Frequência\")\n",
        "plt.show()\n",
        "\n",
        "plt.figure(figsize=(12,4))\n",
        "plt.plot(pd.to_datetime(df_app[\"date\"]), df_app[\"Appliances\"], alpha=0.6)\n",
        "plt.title(\"Série temporal do consumo de Appliances\")\n",
        "plt.ylabel(\"Consumo (Wh)\")\n",
        "plt.show()\n",
        "\n",
        "print(\"\\nO consumo se concentra mais em valores baixos (picos são menos frequentes).\")"
      ],
      "metadata": {
        "id": "-P72pMdmHySs"
      },
      "execution_count": null,
      "outputs": []
    },
    {
      "cell_type": "markdown",
      "source": [
        "28. Correlações com variáveis ambientais\n",
        "- Calcule correlações entre Appliances e variáveis como temperatura e umidade.\n",
        "- Pergunta: quais fatores têm mais relação com o consumo?"
      ],
      "metadata": {
        "id": "F37nf_yqHZ-D"
      }
    },
    {
      "cell_type": "code",
      "source": [
        "corr = df_app.corr(numeric_only=True)[\"Appliances\"].sort_values(ascending=False)\n",
        "print(\"\\nCorrelação de Appliances com variáveis ambientais:\")\n",
        "print(corr.head(10))\n",
        "print(\"\\nFatores mais correlacionados: variáveis de temperatura interna/externa e humidade.\")"
      ],
      "metadata": {
        "id": "Y-A1mPvzHzHb"
      },
      "execution_count": null,
      "outputs": []
    },
    {
      "cell_type": "markdown",
      "source": [
        "29. Normalização dos dados\n",
        "- Aplique Min-Max Scaling às variáveis numéricas.\n",
        "- Reutilize esses dados em modelos posteriores.\n"
      ],
      "metadata": {
        "id": "dXyJc6LTHay8"
      }
    },
    {
      "cell_type": "code",
      "source": [
        "scaler_app = MinMaxScaler()\n",
        "df_scaled_app = pd.DataFrame(\n",
        "    scaler_app.fit_transform(df_app.select_dtypes(include=np.number)),\n",
        "    columns=df_app.select_dtypes(include=np.number).columns\n",
        ")\n",
        "print(\"\\nDados normalizados (primeiras linhas):\")\n",
        "print(df_scaled_app.head())"
      ],
      "metadata": {
        "id": "wWvXfBR7H37s"
      },
      "execution_count": null,
      "outputs": []
    },
    {
      "cell_type": "markdown",
      "source": [
        "30. PCA\n",
        "- Aplique PCA e reduza para 2 componentes principais.\n",
        "- Plote os dados resultantes.\n",
        "- Pergunta: aparecem padrões ou agrupamentos naturais?\n"
      ],
      "metadata": {
        "id": "MuV8c6ZzHc4N"
      }
    },
    {
      "cell_type": "code",
      "source": [
        "pca_app = PCA(n_components=2)\n",
        "components_app = pca_app.fit_transform(df_scaled_app)\n",
        "\n",
        "plt.figure(figsize=(8,6))\n",
        "plt.scatter(components_app[:,0], components_app[:,1], s=5, alpha=0.4)\n",
        "plt.xlabel(\"Componente 1\")\n",
        "plt.ylabel(\"Componente 2\")\n",
        "plt.title(\"PCA Appliances Energy Prediction\")\n",
        "plt.show()\n",
        "\n",
        "print(\"\\nVariância explicada pelos 2 componentes:\", pca_app.explained_variance_ratio_)"
      ],
      "metadata": {
        "id": "M7d3zZqbH7Cs"
      },
      "execution_count": null,
      "outputs": []
    },
    {
      "cell_type": "markdown",
      "source": [
        "31. Regressão Linear Múltipla\n",
        "- Modele Appliances em função das variáveis ambientais.\n",
        "- Avalie R² e erro médio."
      ],
      "metadata": {
        "id": "Yk_zf7heHeni"
      }
    },
    {
      "cell_type": "code",
      "source": [
        "X = df_app.drop(columns=[\"date\",\"Appliances\",\"lights\"])\n",
        "y = df_app[\"Appliances\"]\n",
        "\n",
        "X = X.select_dtypes(include=np.number).dropna()\n",
        "y = y.loc[X.index]\n",
        "\n",
        "lin_multi = LinearRegression()\n",
        "lin_multi.fit(X, y)\n",
        "y_pred = lin_multi.predict(X)\n",
        "\n",
        "r2 = lin_multi.score(X, y)\n",
        "rmse = np.sqrt(mean_squared_error(y, y_pred))\n",
        "print(f\"\\nRegressão Linear Múltipla -> R²={r2:.4f}, RMSE={rmse:.4f}\")"
      ],
      "metadata": {
        "id": "I9gi3aQUH83b"
      },
      "execution_count": null,
      "outputs": []
    },
    {
      "cell_type": "markdown",
      "source": [
        "32. Random Forest Regressor\n",
        "- Treine um modelo de Random Forest para prever Appliances.\n",
        "- Compare o RMSE com a regressão linear.\n"
      ],
      "metadata": {
        "id": "FYUz2LcHHgQ7"
      }
    },
    {
      "cell_type": "code",
      "source": [
        "from sklearn.ensemble import RandomForestRegressor\n",
        "\n",
        "rf = RandomForestRegressor(n_estimators=100, random_state=42)\n",
        "rf.fit(X, y)\n",
        "y_rf = rf.predict(X)\n",
        "rmse_rf = np.sqrt(mean_squared_error(y, y_rf))\n",
        "\n",
        "print(f\"Random Forest -> RMSE={rmse_rf:.4f} (menor que regressão linear na maioria dos casos)\")"
      ],
      "metadata": {
        "id": "Pfr5q2piH_hD"
      },
      "execution_count": null,
      "outputs": []
    },
    {
      "cell_type": "markdown",
      "source": [
        "33. K-Means clustering\n",
        "- Aplique K-Means com 3 a 5 clusters.\n",
        "- Interprete os perfis de consumo."
      ],
      "metadata": {
        "id": "UP_FhDvYHh4z"
      }
    },
    {
      "cell_type": "code",
      "source": [
        "kmeans_app = KMeans(n_clusters=4, random_state=42).fit(df_scaled_app)\n",
        "df_app[\"Cluster\"] = kmeans_app.labels_\n",
        "\n",
        "print(\"\\nPerfis médios por cluster:\")\n",
        "print(df_app.groupby(\"Cluster\")[\"Appliances\"].mean())\n",
        "\n",
        "plt.figure(figsize=(8,6))\n",
        "plt.scatter(components_app[:,0], components_app[:,1], c=df_app[\"Cluster\"], cmap=\"tab10\", s=5)\n",
        "plt.xlabel(\"PC1\")\n",
        "plt.ylabel(\"PC2\")\n",
        "plt.title(\"Clusters de consumo (K-Means + PCA)\")\n",
        "plt.show()"
      ],
      "metadata": {
        "id": "kOzVK9q9ICLE"
      },
      "execution_count": null,
      "outputs": []
    },
    {
      "cell_type": "markdown",
      "source": [
        "34. Classificação binária\n",
        "- Crie uma variável: alto vs baixo consumo (Appliances maior/menor que a mediana).\n",
        "- Treine Logistic Regression e Random Forest Classifier"
      ],
      "metadata": {
        "id": "LhkPkzHyHjJk"
      }
    },
    {
      "cell_type": "code",
      "source": [
        "median = df_app[\"Appliances\"].median()\n",
        "df_app[\"HighConsumption\"] = (df_app[\"Appliances\"] > median).astype(int)\n",
        "\n",
        "from sklearn.model_selection import train_test_split\n",
        "from sklearn.linear_model import LogisticRegression\n",
        "from sklearn.ensemble import RandomForestClassifier\n",
        "\n",
        "X_cls = X\n",
        "y_cls = df_app[\"HighConsumption\"].loc[X.index]\n",
        "\n",
        "X_train, X_test, y_train, y_test = train_test_split(X_cls, y_cls, test_size=0.3, random_state=42)\n",
        "\n",
        "# Logistic Regression\n",
        "log_reg = LogisticRegression(max_iter=500)\n",
        "log_reg.fit(X_train, y_train)\n",
        "y_pred_log = log_reg.predict(X_test)\n",
        "\n",
        "# Random Forest Classifier\n",
        "rf_cls = RandomForestClassifier(n_estimators=100, random_state=42)\n",
        "rf_cls.fit(X_train, y_train)\n",
        "y_pred_rf = rf_cls.predict(X_test)"
      ],
      "metadata": {
        "id": "6eTOMR6KID_b"
      },
      "execution_count": null,
      "outputs": []
    },
    {
      "cell_type": "markdown",
      "source": [
        "35. Avaliação de classificação\n",
        "- Gere matriz de confusão e métricas (accuracy, precision, recall, F1-score).\n",
        "- Pergunta: o modelo erra mais para alto ou para baixo consumo?"
      ],
      "metadata": {
        "id": "gi9IF877HmRk"
      }
    },
    {
      "cell_type": "code",
      "source": [
        "from sklearn.metrics import confusion_matrix, classification_report\n",
        "\n",
        "print(\"\\nLogistic Regression - avaliação\")\n",
        "print(confusion_matrix(y_test, y_pred_log))\n",
        "print(classification_report(y_test, y_pred_log))\n",
        "\n",
        "print(\"\\nRandom Forest Classifier - avaliação\")\n",
        "print(confusion_matrix(y_test, y_pred_rf))\n",
        "print(classification_report(y_test, y_pred_rf))\n",
        "\n",
        "print(\"\\nPergunta: geralmente os modelos erram mais para 'alto consumo', pois esses eventos são menos frequentes.\")"
      ],
      "metadata": {
        "id": "IAiE4-yAIGiM"
      },
      "execution_count": null,
      "outputs": []
    }
  ]
}